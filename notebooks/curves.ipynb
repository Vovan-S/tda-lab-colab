{
 "cells": [
  {
   "cell_type": "code",
   "execution_count": 18,
   "metadata": {},
   "outputs": [],
   "source": [
    "from gtda import diagrams, plotting\n",
    "import h5py \n",
    "import numpy as np"
   ]
  },
  {
   "cell_type": "code",
   "execution_count": 2,
   "metadata": {},
   "outputs": [],
   "source": [
    "diags = []\n",
    "suffixes = [\"-4\", \"-8\", \"-14\"]\n",
    "\n",
    "for suf in suffixes:\n",
    "    with h5py.File(f\"../files/diags-all{suf}.h5\") as f:\n",
    "        diags.append(np.array(f[\"diagrams\"]))"
   ]
  },
  {
   "cell_type": "code",
   "execution_count": 4,
   "metadata": {},
   "outputs": [],
   "source": [
    "BC = diagrams.BettiCurve()\n",
    "PL = diagrams.PersistenceLandscape()"
   ]
  },
  {
   "cell_type": "code",
   "execution_count": 5,
   "metadata": {},
   "outputs": [],
   "source": [
    "betti = [BC.fit_transform(d) for d in diags]\n",
    "perld = [PL.fit_transform(d) for d in diags]"
   ]
  },
  {
   "cell_type": "code",
   "execution_count": 6,
   "metadata": {},
   "outputs": [],
   "source": [
    "for curves in betti:\n",
    "    curves[:,0,:] += 1"
   ]
  },
  {
   "cell_type": "code",
   "execution_count": 9,
   "metadata": {},
   "outputs": [
    {
     "data": {
      "text/plain": [
       "array([b'Sound_Drum', b'Sound_Guitar', b'Sound_Guitar', ...,\n",
       "       b'Sound_Violin', b'Sound_Piano', b'Sound_Drum'], dtype='|S12')"
      ]
     },
     "execution_count": 9,
     "metadata": {},
     "output_type": "execute_result"
    }
   ],
   "source": [
    "with h5py.File(f\"../files/diags-all-4.h5\") as f:\n",
    "    classes = np.array(f[\"classes\"])"
   ]
  },
  {
   "cell_type": "code",
   "execution_count": 15,
   "metadata": {},
   "outputs": [],
   "source": [
    "unique_classes = np.unique(classes)\n",
    "average_betti = []\n",
    "average_lands = []\n",
    "\n",
    "for cl in unique_classes:\n",
    "    indices = classes[:-80] == cl\n",
    "    average_betti.append([np.mean(cv[:-80][indices], axis=0) for cv in betti])\n",
    "    average_lands.append([np.mean(cv[:-80][indices], axis=0) for cv in perld])"
   ]
  },
  {
   "cell_type": "code",
   "execution_count": 16,
   "metadata": {},
   "outputs": [],
   "source": [
    "avr_betti_per_diags = [np.stack(arrays) for arrays in zip(*average_betti)]\n",
    "avr_lands_per_diags = [np.stack(arrays) for arrays in zip(*average_lands)]"
   ]
  },
  {
   "cell_type": "code",
   "execution_count": 17,
   "metadata": {},
   "outputs": [],
   "source": [
    "with h5py.File('../files/curves.h5', mode='w') as f:\n",
    "    for i, suf in enumerate(suffixes):\n",
    "        f.create_dataset(f\"betti{suf}\", data=betti[i])\n",
    "        f.create_dataset(f\"landscape{suf}\", data=perld[i])\n",
    "        f.create_dataset(f\"avr-betti{suf}\", data=avr_betti_per_diags[i])\n",
    "        f.create_dataset(f\"avr-landscape{suf}\", data=avr_lands_per_diags[i])\n",
    "    f.create_dataset(\"class order\", data=unique_classes)"
   ]
  },
  {
   "cell_type": "code",
   "execution_count": 52,
   "metadata": {},
   "outputs": [
    {
     "data": {
      "application/vnd.plotly.v1+json": {
       "config": {
        "plotlyServerURL": "https://plot.ly"
       },
       "data": [
        {
         "hoverinfo": "none",
         "mode": "lines",
         "name": "Layer 1 (H0)",
         "showlegend": true,
         "type": "scatter",
         "x": [
          0,
          0.0017765918464371653,
          0.0035531836928743305,
          0.005329775539311496,
          0.007106367385748661,
          0.008882959232185825,
          0.010659551078622992,
          0.012436142925060158,
          0.014212734771497322,
          0.015989326617934486,
          0.01776591846437165,
          0.01954251031080882,
          0.021319102157245983,
          0.023095694003683147,
          0.024872285850120315,
          0.02664887769655748,
          0.028425469542994644,
          0.03020206138943181,
          0.03197865323586897,
          0.03375524508230614,
          0.0355318369287433,
          0.03730842877518047,
          0.03908502062161764,
          0.0408616124680548,
          0.042638204314491966,
          0.04441479616092913,
          0.046191388007366295,
          0.04796797985380346,
          0.04974457170024063,
          0.051521163546677795,
          0.05329775539311496,
          0.055074347239552124,
          0.05685093908598929,
          0.05862753093242645,
          0.06040412277886362,
          0.06218071462530078,
          0.06395730647173795,
          0.06573389831817511,
          0.06751049016461227,
          0.06928708201104944,
          0.0710636738574866,
          0.07284026570392378,
          0.07461685755036095,
          0.07639344939679811,
          0.07817004124323527,
          0.07994663308967244,
          0.0817232249361096,
          0.08349981678254677,
          0.08527640862898393,
          0.0870530004754211,
          0.08882959232185826,
          0.09060618416829543,
          0.09238277601473259,
          0.09415936786116975,
          0.09593595970760692,
          0.09771255155404408,
          0.09948914340048126,
          0.10126573524691843,
          0.10304232709335559,
          0.10481891893979275,
          0.10659551078622992,
          0.10837210263266708,
          0.11014869447910425,
          0.11192528632554141,
          0.11370187817197858,
          0.11547847001841574,
          0.1172550618648529,
          0.11903165371129007,
          0.12080824555772723,
          0.1225848374041644,
          0.12436142925060156,
          0.12613802109703873,
          0.1279146129434759,
          0.12969120478991306,
          0.13146779663635022,
          0.13324438848278738,
          0.13502098032922455,
          0.1367975721756617,
          0.13857416402209888,
          0.14035075586853604,
          0.1421273477149732,
          0.1439039395614104,
          0.14568053140784756,
          0.14745712325428473,
          0.1492337151007219,
          0.15101030694715906,
          0.15278689879359622,
          0.15456349064003339,
          0.15634008248647055,
          0.15811667433290771,
          0.15989326617934488,
          0.16166985802578204,
          0.1634464498722192,
          0.16522304171865637,
          0.16699963356509354,
          0.1687762254115307,
          0.17055281725796786,
          0.17232940910440503,
          0.1741060009508422,
          0.17588259279727936
         ],
         "xaxis": "x",
         "y": [
          0,
          0.0013755524034301345,
          0.002210486026939054,
          0.0028029220145461887,
          0.0033642621959249176,
          0.003909114227733687,
          0.004380690715763549,
          0.004737975392638463,
          0.00498385662538192,
          0.00512355542874762,
          0.005138911580341676,
          0.005102760347108996,
          0.005008849548619419,
          0.0048921840256523534,
          0.004770148917736987,
          0.004618433999518551,
          0.004444915950298305,
          0.004252248162788054,
          0.0040364866011909075,
          0.0038196620900952665,
          0.0036065339143314112,
          0.003382616903455484,
          0.003174695154385908,
          0.0029829148492879335,
          0.0027816886632215437,
          0.0025846776738762817,
          0.00238911795592497,
          0.00220815793211971,
          0.00202639210082236,
          0.0018567236832210015,
          0.0017039577698423746,
          0.0015591400755303236,
          0.0014201323960035578,
          0.0012920896283217824,
          0.0011797839805247296,
          0.001074844531360126,
          0.0009828691397394452,
          0.0009039159686792466,
          0.0008328780969457019,
          0.0007607291106666833,
          0.0006937159597873686,
          0.0006375924391405925,
          0.0005814689184938153,
          0.0005284057959677683,
          0.00047820520897706346,
          0.000434520063655717,
          0.00039086843648600186,
          0.00035359664450562185,
          0.0003225495879139218,
          0.0002956384787010767,
          0.0002706946917469539,
          0.000245750904792831,
          0.0002237959584546468,
          0.00020197014486978914,
          0.00018014433128493173,
          0.00015992498113995502,
          0.00014407084338248713,
          0.00012848097653616038,
          0.00011449565017034139,
          0.00010202375669327992,
          0.00008955186321621845,
          0.00007893511936778107,
          0.00006958119925998508,
          0.00006193495222500392,
          0.00005569900548647319,
          0.00004946305874794245,
          0.00004322711200941171,
          0.00003699116527088106,
          0.000030755218532350317,
          0.00002451927179381958,
          0.000021390214798942424,
          0.000018272241429677093,
          0.000015154268060411725,
          0.000012036294691146358,
          0.000008918321321880988,
          0.000005800347952615621,
          0.000002682374583350292,
          0,
          0,
          0,
          0,
          0,
          0,
          0,
          0,
          0,
          0,
          0,
          0,
          0,
          0,
          0,
          0,
          0,
          0,
          0,
          0,
          0,
          0,
          0
         ],
         "yaxis": "y"
        },
        {
         "hoverinfo": "none",
         "mode": "lines",
         "name": "Layer 1 (H1)",
         "showlegend": true,
         "type": "scatter",
         "x": [
          8.257342203060868e-23,
          0.00895677190838438,
          0.01791354381676876,
          0.02687031572515314,
          0.03582708763353752,
          0.044783859541921905,
          0.05374063145030628,
          0.06269740335869066,
          0.07165417526707504,
          0.08061094717545943,
          0.08956771908384381,
          0.09852449099222818,
          0.10748126290061256,
          0.11643803480899695,
          0.12539480671738132,
          0.13435157862576572,
          0.1433083505341501,
          0.15226512244253446,
          0.16122189435091885,
          0.17017866625930322,
          0.17913543816768762,
          0.188092210076072,
          0.19704898198445636,
          0.20600575389284076,
          0.21496252580122513,
          0.2239192977096095,
          0.2328760696179939,
          0.24183284152637827,
          0.25078961343476264,
          0.25974638534314703,
          0.26870315725153143,
          0.2776599291599158,
          0.2866167010683002,
          0.29557347297668457,
          0.3045302448850689,
          0.3134870167934533,
          0.3224437887018377,
          0.33140056061022205,
          0.34035733251860645,
          0.34931410442699085,
          0.35827087633537524,
          0.3672276482437596,
          0.376184420152144,
          0.3851411920605284,
          0.3940979639689127,
          0.4030547358772971,
          0.4120115077856815,
          0.42096827969406586,
          0.42992505160245026,
          0.43888182351083466,
          0.447838595419219,
          0.4567953673276034,
          0.4657521392359878,
          0.47470891114437214,
          0.48366568305275653,
          0.49262245496114093,
          0.5015792268695253,
          0.5105359987779097,
          0.5194927706862941,
          0.5284495425946785,
          0.5374063145030629,
          0.5463630864114472,
          0.5553198583198315,
          0.564276630228216,
          0.5732334021366003,
          0.5821901740449847,
          0.5911469459533691,
          0.6001037178617535,
          0.6090604897701378,
          0.6180172616785222,
          0.6269740335869066,
          0.635930805495291,
          0.6448875774036754,
          0.6538443493120598,
          0.6628011212204441,
          0.6717578931288285,
          0.6807146650372129,
          0.6896714369455973,
          0.6986282088539817,
          0.7075849807623661,
          0.7165417526707505,
          0.7254985245791348,
          0.7344552964875192,
          0.7434120683959036,
          0.752368840304288,
          0.7613256122126724,
          0.7702823841210568,
          0.779239156029441,
          0.7881959279378254,
          0.7971526998462098,
          0.8061094717545942,
          0.8150662436629786,
          0.824023015571363,
          0.8329797874797473,
          0.8419365593881317,
          0.8508933312965161,
          0.8598501032049005,
          0.8688068751132849,
          0.8777636470216693,
          0.8867204189300537
         ],
         "xaxis": "x2",
         "y": [
          0,
          0.0007908650041730203,
          0.0012368729688807748,
          0.001708375480957331,
          0.0021390668211456456,
          0.0024888603342092274,
          0.002885420491386737,
          0.00327765700504087,
          0.0034315103346893162,
          0.003474214808870252,
          0.003476726834045409,
          0.0035142645199916192,
          0.0036007498838491244,
          0.0036410287455595153,
          0.003593471432951364,
          0.0035195631364529803,
          0.0034961487594750026,
          0.0033902680927089283,
          0.0032280565154823395,
          0.0030964086233795447,
          0.0029601173971283735,
          0.0028604678758843375,
          0.002741663514503411,
          0.002660939505251198,
          0.002518123038500162,
          0.0023504838226483995,
          0.0021879752793095317,
          0.002060788727619431,
          0.0019216403137747348,
          0.0017966022589183468,
          0.0016922065988183015,
          0.0016004787743478619,
          0.0014976861269830105,
          0.0013750951950039182,
          0.0012541213989644858,
          0.0011666780100627377,
          0.0010960857715312537,
          0.0010306799179547789,
          0.0009662793596069532,
          0.0008922228933154763,
          0.0008221709321845658,
          0.000752118971053656,
          0.0006820670099227456,
          0.0006120150487918354,
          0.0005511660022394998,
          0.0004892301907787074,
          0.00043167836093283295,
          0.000389101273053652,
          0.0003540752924881972,
          0.0003270837742012816,
          0.0003008142887771902,
          0.0002745448033530991,
          0.0002482753179290077,
          0.00022528907308330776,
          0.0002077760828005802,
          0.00019295679671423776,
          0.00018420030157287396,
          0.0001754438064315102,
          0.0001666873112901464,
          0.0001579308161487827,
          0.0001491743210074189,
          0.00014041782586605512,
          0.00013166133072469135,
          0.00012290483558332764,
          0.00011414834044196385,
          0.00010539184530060007,
          0.00009663535015923636,
          0.00008787885501787257,
          0.0000791223598765088,
          0.000070365864735145,
          0.0000616093695937813,
          0.00005285287445241752,
          0.00004409637931105373,
          0.000035339884169689945,
          0.000026583389028326242,
          0.000017826893886962458,
          0.000009070398745598673,
          3.139036042348886e-7,
          0,
          0,
          0,
          0,
          0,
          0,
          0,
          0,
          0,
          0,
          0,
          0,
          0,
          0,
          0,
          0,
          0,
          0,
          0,
          0,
          0,
          0
         ],
         "yaxis": "y2"
        }
       ],
       "layout": {
        "annotations": [
         {
          "font": {
           "size": 16
          },
          "showarrow": false,
          "text": "H0",
          "x": 0.5,
          "xanchor": "center",
          "xref": "paper",
          "y": 1,
          "yanchor": "bottom",
          "yref": "paper"
         },
         {
          "font": {
           "size": 16
          },
          "showarrow": false,
          "text": "H1",
          "x": 0.5,
          "xanchor": "center",
          "xref": "paper",
          "y": 0.375,
          "yanchor": "bottom",
          "yref": "paper"
         }
        ],
        "plot_bgcolor": "white",
        "template": {
         "data": {
          "bar": [
           {
            "error_x": {
             "color": "#2a3f5f"
            },
            "error_y": {
             "color": "#2a3f5f"
            },
            "marker": {
             "line": {
              "color": "#E5ECF6",
              "width": 0.5
             },
             "pattern": {
              "fillmode": "overlay",
              "size": 10,
              "solidity": 0.2
             }
            },
            "type": "bar"
           }
          ],
          "barpolar": [
           {
            "marker": {
             "line": {
              "color": "#E5ECF6",
              "width": 0.5
             },
             "pattern": {
              "fillmode": "overlay",
              "size": 10,
              "solidity": 0.2
             }
            },
            "type": "barpolar"
           }
          ],
          "carpet": [
           {
            "aaxis": {
             "endlinecolor": "#2a3f5f",
             "gridcolor": "white",
             "linecolor": "white",
             "minorgridcolor": "white",
             "startlinecolor": "#2a3f5f"
            },
            "baxis": {
             "endlinecolor": "#2a3f5f",
             "gridcolor": "white",
             "linecolor": "white",
             "minorgridcolor": "white",
             "startlinecolor": "#2a3f5f"
            },
            "type": "carpet"
           }
          ],
          "choropleth": [
           {
            "colorbar": {
             "outlinewidth": 0,
             "ticks": ""
            },
            "type": "choropleth"
           }
          ],
          "contour": [
           {
            "colorbar": {
             "outlinewidth": 0,
             "ticks": ""
            },
            "colorscale": [
             [
              0,
              "#0d0887"
             ],
             [
              0.1111111111111111,
              "#46039f"
             ],
             [
              0.2222222222222222,
              "#7201a8"
             ],
             [
              0.3333333333333333,
              "#9c179e"
             ],
             [
              0.4444444444444444,
              "#bd3786"
             ],
             [
              0.5555555555555556,
              "#d8576b"
             ],
             [
              0.6666666666666666,
              "#ed7953"
             ],
             [
              0.7777777777777778,
              "#fb9f3a"
             ],
             [
              0.8888888888888888,
              "#fdca26"
             ],
             [
              1,
              "#f0f921"
             ]
            ],
            "type": "contour"
           }
          ],
          "contourcarpet": [
           {
            "colorbar": {
             "outlinewidth": 0,
             "ticks": ""
            },
            "type": "contourcarpet"
           }
          ],
          "heatmap": [
           {
            "colorbar": {
             "outlinewidth": 0,
             "ticks": ""
            },
            "colorscale": [
             [
              0,
              "#0d0887"
             ],
             [
              0.1111111111111111,
              "#46039f"
             ],
             [
              0.2222222222222222,
              "#7201a8"
             ],
             [
              0.3333333333333333,
              "#9c179e"
             ],
             [
              0.4444444444444444,
              "#bd3786"
             ],
             [
              0.5555555555555556,
              "#d8576b"
             ],
             [
              0.6666666666666666,
              "#ed7953"
             ],
             [
              0.7777777777777778,
              "#fb9f3a"
             ],
             [
              0.8888888888888888,
              "#fdca26"
             ],
             [
              1,
              "#f0f921"
             ]
            ],
            "type": "heatmap"
           }
          ],
          "heatmapgl": [
           {
            "colorbar": {
             "outlinewidth": 0,
             "ticks": ""
            },
            "colorscale": [
             [
              0,
              "#0d0887"
             ],
             [
              0.1111111111111111,
              "#46039f"
             ],
             [
              0.2222222222222222,
              "#7201a8"
             ],
             [
              0.3333333333333333,
              "#9c179e"
             ],
             [
              0.4444444444444444,
              "#bd3786"
             ],
             [
              0.5555555555555556,
              "#d8576b"
             ],
             [
              0.6666666666666666,
              "#ed7953"
             ],
             [
              0.7777777777777778,
              "#fb9f3a"
             ],
             [
              0.8888888888888888,
              "#fdca26"
             ],
             [
              1,
              "#f0f921"
             ]
            ],
            "type": "heatmapgl"
           }
          ],
          "histogram": [
           {
            "marker": {
             "pattern": {
              "fillmode": "overlay",
              "size": 10,
              "solidity": 0.2
             }
            },
            "type": "histogram"
           }
          ],
          "histogram2d": [
           {
            "colorbar": {
             "outlinewidth": 0,
             "ticks": ""
            },
            "colorscale": [
             [
              0,
              "#0d0887"
             ],
             [
              0.1111111111111111,
              "#46039f"
             ],
             [
              0.2222222222222222,
              "#7201a8"
             ],
             [
              0.3333333333333333,
              "#9c179e"
             ],
             [
              0.4444444444444444,
              "#bd3786"
             ],
             [
              0.5555555555555556,
              "#d8576b"
             ],
             [
              0.6666666666666666,
              "#ed7953"
             ],
             [
              0.7777777777777778,
              "#fb9f3a"
             ],
             [
              0.8888888888888888,
              "#fdca26"
             ],
             [
              1,
              "#f0f921"
             ]
            ],
            "type": "histogram2d"
           }
          ],
          "histogram2dcontour": [
           {
            "colorbar": {
             "outlinewidth": 0,
             "ticks": ""
            },
            "colorscale": [
             [
              0,
              "#0d0887"
             ],
             [
              0.1111111111111111,
              "#46039f"
             ],
             [
              0.2222222222222222,
              "#7201a8"
             ],
             [
              0.3333333333333333,
              "#9c179e"
             ],
             [
              0.4444444444444444,
              "#bd3786"
             ],
             [
              0.5555555555555556,
              "#d8576b"
             ],
             [
              0.6666666666666666,
              "#ed7953"
             ],
             [
              0.7777777777777778,
              "#fb9f3a"
             ],
             [
              0.8888888888888888,
              "#fdca26"
             ],
             [
              1,
              "#f0f921"
             ]
            ],
            "type": "histogram2dcontour"
           }
          ],
          "mesh3d": [
           {
            "colorbar": {
             "outlinewidth": 0,
             "ticks": ""
            },
            "type": "mesh3d"
           }
          ],
          "parcoords": [
           {
            "line": {
             "colorbar": {
              "outlinewidth": 0,
              "ticks": ""
             }
            },
            "type": "parcoords"
           }
          ],
          "pie": [
           {
            "automargin": true,
            "type": "pie"
           }
          ],
          "scatter": [
           {
            "fillpattern": {
             "fillmode": "overlay",
             "size": 10,
             "solidity": 0.2
            },
            "type": "scatter"
           }
          ],
          "scatter3d": [
           {
            "line": {
             "colorbar": {
              "outlinewidth": 0,
              "ticks": ""
             }
            },
            "marker": {
             "colorbar": {
              "outlinewidth": 0,
              "ticks": ""
             }
            },
            "type": "scatter3d"
           }
          ],
          "scattercarpet": [
           {
            "marker": {
             "colorbar": {
              "outlinewidth": 0,
              "ticks": ""
             }
            },
            "type": "scattercarpet"
           }
          ],
          "scattergeo": [
           {
            "marker": {
             "colorbar": {
              "outlinewidth": 0,
              "ticks": ""
             }
            },
            "type": "scattergeo"
           }
          ],
          "scattergl": [
           {
            "marker": {
             "colorbar": {
              "outlinewidth": 0,
              "ticks": ""
             }
            },
            "type": "scattergl"
           }
          ],
          "scattermapbox": [
           {
            "marker": {
             "colorbar": {
              "outlinewidth": 0,
              "ticks": ""
             }
            },
            "type": "scattermapbox"
           }
          ],
          "scatterpolar": [
           {
            "marker": {
             "colorbar": {
              "outlinewidth": 0,
              "ticks": ""
             }
            },
            "type": "scatterpolar"
           }
          ],
          "scatterpolargl": [
           {
            "marker": {
             "colorbar": {
              "outlinewidth": 0,
              "ticks": ""
             }
            },
            "type": "scatterpolargl"
           }
          ],
          "scatterternary": [
           {
            "marker": {
             "colorbar": {
              "outlinewidth": 0,
              "ticks": ""
             }
            },
            "type": "scatterternary"
           }
          ],
          "surface": [
           {
            "colorbar": {
             "outlinewidth": 0,
             "ticks": ""
            },
            "colorscale": [
             [
              0,
              "#0d0887"
             ],
             [
              0.1111111111111111,
              "#46039f"
             ],
             [
              0.2222222222222222,
              "#7201a8"
             ],
             [
              0.3333333333333333,
              "#9c179e"
             ],
             [
              0.4444444444444444,
              "#bd3786"
             ],
             [
              0.5555555555555556,
              "#d8576b"
             ],
             [
              0.6666666666666666,
              "#ed7953"
             ],
             [
              0.7777777777777778,
              "#fb9f3a"
             ],
             [
              0.8888888888888888,
              "#fdca26"
             ],
             [
              1,
              "#f0f921"
             ]
            ],
            "type": "surface"
           }
          ],
          "table": [
           {
            "cells": {
             "fill": {
              "color": "#EBF0F8"
             },
             "line": {
              "color": "white"
             }
            },
            "header": {
             "fill": {
              "color": "#C8D4E3"
             },
             "line": {
              "color": "white"
             }
            },
            "type": "table"
           }
          ]
         },
         "layout": {
          "annotationdefaults": {
           "arrowcolor": "#2a3f5f",
           "arrowhead": 0,
           "arrowwidth": 1
          },
          "autotypenumbers": "strict",
          "coloraxis": {
           "colorbar": {
            "outlinewidth": 0,
            "ticks": ""
           }
          },
          "colorscale": {
           "diverging": [
            [
             0,
             "#8e0152"
            ],
            [
             0.1,
             "#c51b7d"
            ],
            [
             0.2,
             "#de77ae"
            ],
            [
             0.3,
             "#f1b6da"
            ],
            [
             0.4,
             "#fde0ef"
            ],
            [
             0.5,
             "#f7f7f7"
            ],
            [
             0.6,
             "#e6f5d0"
            ],
            [
             0.7,
             "#b8e186"
            ],
            [
             0.8,
             "#7fbc41"
            ],
            [
             0.9,
             "#4d9221"
            ],
            [
             1,
             "#276419"
            ]
           ],
           "sequential": [
            [
             0,
             "#0d0887"
            ],
            [
             0.1111111111111111,
             "#46039f"
            ],
            [
             0.2222222222222222,
             "#7201a8"
            ],
            [
             0.3333333333333333,
             "#9c179e"
            ],
            [
             0.4444444444444444,
             "#bd3786"
            ],
            [
             0.5555555555555556,
             "#d8576b"
            ],
            [
             0.6666666666666666,
             "#ed7953"
            ],
            [
             0.7777777777777778,
             "#fb9f3a"
            ],
            [
             0.8888888888888888,
             "#fdca26"
            ],
            [
             1,
             "#f0f921"
            ]
           ],
           "sequentialminus": [
            [
             0,
             "#0d0887"
            ],
            [
             0.1111111111111111,
             "#46039f"
            ],
            [
             0.2222222222222222,
             "#7201a8"
            ],
            [
             0.3333333333333333,
             "#9c179e"
            ],
            [
             0.4444444444444444,
             "#bd3786"
            ],
            [
             0.5555555555555556,
             "#d8576b"
            ],
            [
             0.6666666666666666,
             "#ed7953"
            ],
            [
             0.7777777777777778,
             "#fb9f3a"
            ],
            [
             0.8888888888888888,
             "#fdca26"
            ],
            [
             1,
             "#f0f921"
            ]
           ]
          },
          "colorway": [
           "#636efa",
           "#EF553B",
           "#00cc96",
           "#ab63fa",
           "#FFA15A",
           "#19d3f3",
           "#FF6692",
           "#B6E880",
           "#FF97FF",
           "#FECB52"
          ],
          "font": {
           "color": "#2a3f5f"
          },
          "geo": {
           "bgcolor": "white",
           "lakecolor": "white",
           "landcolor": "#E5ECF6",
           "showlakes": true,
           "showland": true,
           "subunitcolor": "white"
          },
          "hoverlabel": {
           "align": "left"
          },
          "hovermode": "closest",
          "mapbox": {
           "style": "light"
          },
          "paper_bgcolor": "white",
          "plot_bgcolor": "#E5ECF6",
          "polar": {
           "angularaxis": {
            "gridcolor": "white",
            "linecolor": "white",
            "ticks": ""
           },
           "bgcolor": "#E5ECF6",
           "radialaxis": {
            "gridcolor": "white",
            "linecolor": "white",
            "ticks": ""
           }
          },
          "scene": {
           "xaxis": {
            "backgroundcolor": "#E5ECF6",
            "gridcolor": "white",
            "gridwidth": 2,
            "linecolor": "white",
            "showbackground": true,
            "ticks": "",
            "zerolinecolor": "white"
           },
           "yaxis": {
            "backgroundcolor": "#E5ECF6",
            "gridcolor": "white",
            "gridwidth": 2,
            "linecolor": "white",
            "showbackground": true,
            "ticks": "",
            "zerolinecolor": "white"
           },
           "zaxis": {
            "backgroundcolor": "#E5ECF6",
            "gridcolor": "white",
            "gridwidth": 2,
            "linecolor": "white",
            "showbackground": true,
            "ticks": "",
            "zerolinecolor": "white"
           }
          },
          "shapedefaults": {
           "line": {
            "color": "#2a3f5f"
           }
          },
          "ternary": {
           "aaxis": {
            "gridcolor": "white",
            "linecolor": "white",
            "ticks": ""
           },
           "baxis": {
            "gridcolor": "white",
            "linecolor": "white",
            "ticks": ""
           },
           "bgcolor": "#E5ECF6",
           "caxis": {
            "gridcolor": "white",
            "linecolor": "white",
            "ticks": ""
           }
          },
          "title": {
           "x": 0.05
          },
          "xaxis": {
           "automargin": true,
           "gridcolor": "white",
           "linecolor": "white",
           "ticks": "",
           "title": {
            "standoff": 15
           },
           "zerolinecolor": "white",
           "zerolinewidth": 2
          },
          "yaxis": {
           "automargin": true,
           "gridcolor": "white",
           "linecolor": "white",
           "ticks": "",
           "title": {
            "standoff": 15
           },
           "zerolinecolor": "white",
           "zerolinewidth": 2
          }
         }
        },
        "title": {
         "text": "Landscape representations of diagram 3"
        },
        "xaxis": {
         "anchor": "y",
         "domain": [
          0,
          1
         ],
         "exponentformat": "e",
         "linecolor": "black",
         "linewidth": 1,
         "mirror": false,
         "showexponent": "all",
         "showline": true,
         "side": "bottom",
         "ticks": "outside",
         "type": "linear",
         "zeroline": true
        },
        "xaxis2": {
         "anchor": "y2",
         "domain": [
          0,
          1
         ]
        },
        "yaxis": {
         "anchor": "x",
         "domain": [
          0.625,
          1
         ],
         "exponentformat": "e",
         "linecolor": "black",
         "linewidth": 1,
         "mirror": false,
         "showexponent": "all",
         "showline": true,
         "side": "left",
         "ticks": "outside",
         "type": "linear",
         "zeroline": true
        },
        "yaxis2": {
         "anchor": "x2",
         "domain": [
          0,
          0.375
         ]
        }
       }
      }
     },
     "metadata": {},
     "output_type": "display_data"
    }
   ],
   "source": [
    "PL.plot(avr_lands_per_diags[0], sample=3)"
   ]
  },
  {
   "cell_type": "code",
   "execution_count": 40,
   "metadata": {},
   "outputs": [],
   "source": [
    "def lp_distance(curve1, curve2, p=2):\n",
    "    return np.power(np.sum(np.power(curve1 - curve2, p), axis=1), 1/p)"
   ]
  },
  {
   "cell_type": "code",
   "execution_count": 59,
   "metadata": {},
   "outputs": [],
   "source": [
    "metrics_betti = []\n",
    "for avr_cv, curves in zip(avr_betti_per_diags, betti):\n",
    "    metrics = np.ndarray((curves.shape[0], 4, 2))\n",
    "    for i, cv in enumerate(curves):\n",
    "        for j, avc in enumerate(avr_cv):\n",
    "            metrics[i][j] = lp_distance(cv, avc)\n",
    "    metrics_betti.append(np.reshape(metrics, (curves.shape[0], 8)))\n",
    "\n",
    "metrics_lands = []\n",
    "for avr_cv, curves in zip(avr_lands_per_diags, perld):\n",
    "    metrics = np.ndarray((curves.shape[0], 4, 2))\n",
    "    for i, cv in enumerate(curves):\n",
    "        for j, avc in enumerate(avr_cv):\n",
    "            metrics[i][j] = lp_distance(cv, avc)\n",
    "    metrics_lands.append(np.reshape(metrics, (curves.shape[0], 8)))"
   ]
  },
  {
   "cell_type": "code",
   "execution_count": 61,
   "metadata": {},
   "outputs": [],
   "source": [
    "with h5py.File('../files/avr-metrics.h5', mode='w') as f:\n",
    "    for i, suf in enumerate(suffixes):\n",
    "        f.create_dataset(f\"betti{suf}\", data=metrics_betti[i])\n",
    "        f.create_dataset(f\"landscape{suf}\", data=metrics_lands[i])"
   ]
  },
  {
   "cell_type": "code",
   "execution_count": null,
   "metadata": {},
   "outputs": [],
   "source": []
  }
 ],
 "metadata": {
  "kernelspec": {
   "display_name": "Python 3.10.6 64-bit",
   "language": "python",
   "name": "python3"
  },
  "language_info": {
   "codemirror_mode": {
    "name": "ipython",
    "version": 3
   },
   "file_extension": ".py",
   "mimetype": "text/x-python",
   "name": "python",
   "nbconvert_exporter": "python",
   "pygments_lexer": "ipython3",
   "version": "3.10.6"
  },
  "orig_nbformat": 4,
  "vscode": {
   "interpreter": {
    "hash": "916dbcbb3f70747c44a77c7bcd40155683ae19c65e1c03b4aa3499c5328201f1"
   }
  }
 },
 "nbformat": 4,
 "nbformat_minor": 2
}
