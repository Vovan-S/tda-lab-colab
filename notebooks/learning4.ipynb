{
 "cells": [
  {
   "cell_type": "code",
   "execution_count": 1,
   "metadata": {},
   "outputs": [],
   "source": [
    "import numpy as np\n",
    "import h5py\n",
    "from sklearn import svm, ensemble, linear_model, cluster\n",
    "from sklearn import preprocessing, pipeline, feature_selection"
   ]
  },
  {
   "cell_type": "code",
   "execution_count": 2,
   "metadata": {},
   "outputs": [],
   "source": [
    "from itertools import permutations\n",
    "\n",
    "def accuracy(predicted, gt):\n",
    "    return np.sum(predicted == gt) / len(predicted)\n",
    "\n",
    "def cluster_accuracy(clusters, gt, n_classes):\n",
    "    accuracies = []\n",
    "    for p in permutations(range(n_classes)):\n",
    "        mapped = np.vectorize({i: x for i, x in enumerate(p)}.get)(clusters)\n",
    "        accuracies.append(accuracy(mapped, gt))\n",
    "    return max(accuracies)"
   ]
  },
  {
   "cell_type": "code",
   "execution_count": 3,
   "metadata": {},
   "outputs": [],
   "source": [
    "with h5py.File('../files/mapped_data1.h5') as f:\n",
    "    train1  = np.array(f[\"train_x\"])\n",
    "    train_y = np.array(f[\"train_y\"])\n",
    "    test1   = np.array(f[\"test_x\"])\n",
    "    test_y  = np.array(f[\"test_y\"])\n",
    "\n",
    "metrics = ['betti', 'bottleneck', 'landscape', 'wasserstein']\n",
    "files_suffixes = ['-8', '-4', '-14']\n",
    "\n",
    "test_metrics = {}\n",
    "train_metrics = {}\n",
    "\n",
    "for suffix in files_suffixes:\n",
    "    with h5py.File(f'../files/metrics-test{suffix}.h5') as f:\n",
    "        test_metrics |= {name + suffix: np.array(f[name]) for name in metrics}\n",
    "        reference_index = np.array(f['reference-index'])\n",
    "\n",
    "    with h5py.File(f'../files/metrics-train-all{suffix}.h5') as f:\n",
    "        train_metrics |= {name + suffix: np.array(f[name]) for name in metrics}\n",
    "        train_index = np.array(f[\"train-index\"])"
   ]
  },
  {
   "cell_type": "code",
   "execution_count": 4,
   "metadata": {},
   "outputs": [],
   "source": [
    "def create_dataset(X, Y, additional, indexes):\n",
    "    return np.hstack((X[indexes], additional)), Y[indexes]"
   ]
  },
  {
   "cell_type": "code",
   "execution_count": 12,
   "metadata": {},
   "outputs": [],
   "source": [
    "\n",
    "datasets = {\n",
    "    'original': (train1, train_y, test1, test_y),\n",
    "    **{name: (\n",
    "        *create_dataset(\n",
    "            train1, \n",
    "            train_y, \n",
    "            np.reshape(train_metrics[name], (train_index.shape[0], 40)), \n",
    "            train_index),\n",
    "        *create_dataset(\n",
    "            test1, \n",
    "            test_y, \n",
    "            np.reshape(test_metrics[name], (80, 40)), \n",
    "            np.array(list(range(80)))),\n",
    "        ) for name in train_metrics}\n",
    "}\n",
    "\n",
    "MAX_NAME_LEN = max(len(n) for n in datasets)"
   ]
  },
  {
   "cell_type": "code",
   "execution_count": 8,
   "metadata": {},
   "outputs": [],
   "source": [
    "RANDOM_STATE = 2023\n",
    "VARIANCE_THRESHOLD = 0.9 * (1 - 0.9)\n",
    "\n",
    "pr = pipeline.Pipeline([\n",
    "    (\"feature selection\", feature_selection.VarianceThreshold(VARIANCE_THRESHOLD)),\n",
    "    (\"normalization\", preprocessing.StandardScaler())])\n",
    "\n",
    "sv_clf = pipeline.Pipeline([\n",
    "    (\"preprocessing\", pr),\n",
    "    (\"svm\", svm.SVC(random_state=RANDOM_STATE))])\n",
    "sv_clf.name = \"SVM\"\n",
    "\n",
    "rf_clf = pipeline.Pipeline([\n",
    "    (\"preprocessing\", pr),\n",
    "    (\"rf\", ensemble.RandomForestClassifier(\n",
    "        n_estimators=200, \n",
    "        random_state=RANDOM_STATE))])\n",
    "rf_clf.name = \"Random Forest\"\n",
    "\n",
    "rr_clf = pipeline.Pipeline([\n",
    "    (\"preprocessing\", pr),\n",
    "    (\"ridge regression\", linear_model.RidgeClassifier(max_iter=1000))])\n",
    "rr_clf.name = \"Ridge regression\"\n",
    "\n",
    "lr_clf = pipeline.Pipeline([\n",
    "    (\"preprocessing\", pr),\n",
    "    (\"logistic regression\", linear_model.LogisticRegression(max_iter=5000))])\n",
    "lr_clf.name = \"Logistic regression\"\n",
    "\n",
    "\n",
    "classifiers = [sv_clf, rf_clf, rr_clf, lr_clf]"
   ]
  },
  {
   "cell_type": "code",
   "execution_count": 9,
   "metadata": {},
   "outputs": [
    {
     "name": "stdout",
     "output_type": "stream",
     "text": [
      "SVM\n",
      "\t original       0.7875\n",
      "\t betti-8        0.8\n",
      "\t bottleneck-8   0.775\n",
      "\t landscape-8    0.775\n",
      "\t wasserstein-8  0.775\n",
      "\t betti-4        0.8\n",
      "\t bottleneck-4   0.775\n",
      "\t landscape-4    0.775\n",
      "\t wasserstein-4  0.775\n",
      "\t betti-14       0.8\n",
      "\t bottleneck-14  0.775\n",
      "\t landscape-14   0.775\n",
      "\t wasserstein-14 0.775\n",
      "Random Forest\n",
      "\t original       0.8375\n",
      "\t betti-8        0.8\n",
      "\t bottleneck-8   0.8125\n",
      "\t landscape-8    0.8125\n",
      "\t wasserstein-8  0.8125\n",
      "\t betti-4        0.7875\n",
      "\t bottleneck-4   0.8125\n",
      "\t landscape-4    0.8125\n",
      "\t wasserstein-4  0.8125\n",
      "\t betti-14       0.7875\n",
      "\t bottleneck-14  0.8125\n",
      "\t landscape-14   0.8125\n",
      "\t wasserstein-14 0.8125\n",
      "Ridge regression\n",
      "\t original       0.725\n",
      "\t betti-8        0.7125\n",
      "\t bottleneck-8   0.725\n",
      "\t landscape-8    0.725\n",
      "\t wasserstein-8  0.725\n",
      "\t betti-4        0.7125\n",
      "\t bottleneck-4   0.725\n",
      "\t landscape-4    0.725\n",
      "\t wasserstein-4  0.725\n",
      "\t betti-14       0.7125\n",
      "\t bottleneck-14  0.725\n",
      "\t landscape-14   0.725\n",
      "\t wasserstein-14 0.725\n",
      "Logistic regression\n",
      "\t original       0.775\n",
      "\t betti-8        0.7875\n",
      "\t bottleneck-8   0.775\n",
      "\t landscape-8    0.775\n",
      "\t wasserstein-8  0.775\n",
      "\t betti-4        0.7625\n",
      "\t bottleneck-4   0.775\n",
      "\t landscape-4    0.775\n",
      "\t wasserstein-4  0.775\n",
      "\t betti-14       0.7625\n",
      "\t bottleneck-14  0.775\n",
      "\t landscape-14   0.775\n",
      "\t wasserstein-14 0.775\n"
     ]
    }
   ],
   "source": [
    "for clf in classifiers:\n",
    "    print(clf.name)\n",
    "    for name, (x, y, vx, vy) in datasets.items():\n",
    "        clf.fit(x, y)\n",
    "        yp = clf.predict(vx)\n",
    "        print('\\t', name.ljust(MAX_NAME_LEN), accuracy(yp, vy))"
   ]
  },
  {
   "cell_type": "code",
   "execution_count": 10,
   "metadata": {},
   "outputs": [],
   "source": [
    "km_cls = pipeline.Pipeline([\n",
    "    (\"preprocessing\", pr),\n",
    "    (\"kmeans\", cluster.KMeans(\n",
    "        n_clusters=4, \n",
    "        init='random', \n",
    "        random_state=RANDOM_STATE,\n",
    "        n_init=20))\n",
    "])"
   ]
  },
  {
   "cell_type": "code",
   "execution_count": 13,
   "metadata": {},
   "outputs": [
    {
     "name": "stdout",
     "output_type": "stream",
     "text": [
      "original       0.6289954337899544\n",
      "betti-8        0.5825986968187045\n",
      "bottleneck-8   0.6301264852433883\n",
      "landscape-8    0.6301264852433883\n",
      "wasserstein-8  0.6301264852433883\n",
      "betti-4        0.5875814488309697\n",
      "bottleneck-4   0.6301264852433883\n",
      "landscape-4    0.6301264852433883\n",
      "wasserstein-4  0.6301264852433883\n",
      "betti-14       0.5875814488309697\n",
      "bottleneck-14  0.6301264852433883\n",
      "landscape-14   0.6301264852433883\n",
      "wasserstein-14 0.6301264852433883\n"
     ]
    }
   ],
   "source": [
    "for name, (x, y, _, _) in datasets.items():\n",
    "    km_cls.fit(x)\n",
    "    yp = km_cls.predict(x)\n",
    "    print(name.ljust(MAX_NAME_LEN), cluster_accuracy(yp, y, 4))"
   ]
  }
 ],
 "metadata": {
  "kernelspec": {
   "display_name": "Python 3.10.6 64-bit",
   "language": "python",
   "name": "python3"
  },
  "language_info": {
   "codemirror_mode": {
    "name": "ipython",
    "version": 3
   },
   "file_extension": ".py",
   "mimetype": "text/x-python",
   "name": "python",
   "nbconvert_exporter": "python",
   "pygments_lexer": "ipython3",
   "version": "3.10.6"
  },
  "orig_nbformat": 4,
  "vscode": {
   "interpreter": {
    "hash": "916dbcbb3f70747c44a77c7bcd40155683ae19c65e1c03b4aa3499c5328201f1"
   }
  }
 },
 "nbformat": 4,
 "nbformat_minor": 2
}
