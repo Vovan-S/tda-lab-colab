{
 "cells": [
  {
   "cell_type": "code",
   "execution_count": 3,
   "metadata": {},
   "outputs": [],
   "source": [
    "import numpy as np\n",
    "import h5py\n",
    "from sklearn import svm\n",
    "from sklearn.ensemble import RandomForestClassifier\n",
    "from sklearn.cluster import KMeans"
   ]
  },
  {
   "cell_type": "code",
   "execution_count": 4,
   "metadata": {},
   "outputs": [],
   "source": [
    "from itertools import permutations\n",
    "\n",
    "def cluster_accuracy(clusters, gt, n_classes):\n",
    "    accuracies = []\n",
    "    for p in permutations(range(n_classes)):\n",
    "        mapped = np.vectorize({i: x for i, x in enumerate(p)}.get)(clusters)\n",
    "        accuracies.append(sum(mapped == gt))\n",
    "    return max(accuracies) / len(gt)"
   ]
  },
  {
   "cell_type": "code",
   "execution_count": 5,
   "metadata": {},
   "outputs": [],
   "source": [
    "with h5py.File('../files/mapped_data1.h5') as f:\n",
    "    train1  = np.array(f[\"train_x\"])\n",
    "    train_y = np.array(f[\"train_y\"])\n",
    "    test1   = np.array(f[\"test_x\"])\n",
    "    test_y  = np.array(f[\"test_y\"])\n",
    "\n",
    "metrics = ['betti', 'bottleneck', 'landscape', 'wasserstein']\n",
    "\n",
    "with h5py.File('../files/metrics-test.h5') as f:\n",
    "    test_metrics = {name: np.array(f[name]) for name in metrics}\n",
    "    reference_index = np.array(f['reference-index'])\n",
    "\n",
    "with h5py.File('../files/metrics-train-all.h5') as f:\n",
    "    train_metrics = {name: np.array(f[name]) for name in metrics}\n",
    "    train_index = np.array(f[\"train-index\"])"
   ]
  },
  {
   "cell_type": "code",
   "execution_count": 6,
   "metadata": {},
   "outputs": [],
   "source": [
    "def create_dataset(X, Y, additional, indexes):\n",
    "    return np.hstack((X[indexes], additional)), Y[indexes]"
   ]
  },
  {
   "cell_type": "code",
   "execution_count": 7,
   "metadata": {},
   "outputs": [
    {
     "data": {
      "text/plain": [
       "(2609,)"
      ]
     },
     "execution_count": 7,
     "metadata": {},
     "output_type": "execute_result"
    }
   ],
   "source": [
    "train_index.shape"
   ]
  },
  {
   "cell_type": "code",
   "execution_count": 8,
   "metadata": {},
   "outputs": [],
   "source": [
    "datasets = {\n",
    "    'original': (train1, train_y, test1, test_y),\n",
    "    **{name: (\n",
    "        *create_dataset(\n",
    "            train1, \n",
    "            train_y, \n",
    "            np.reshape(train_metrics[name], (train_index.shape[0], 40)), \n",
    "            train_index),\n",
    "        *create_dataset(\n",
    "            test1, \n",
    "            test_y, \n",
    "            np.reshape(test_metrics[name], (80, 40)), \n",
    "            np.array(list(range(80)))),\n",
    "        ) for name in metrics}\n",
    "}"
   ]
  },
  {
   "cell_type": "code",
   "execution_count": 9,
   "metadata": {},
   "outputs": [
    {
     "data": {
      "text/plain": [
       "4"
      ]
     },
     "execution_count": 9,
     "metadata": {},
     "output_type": "execute_result"
    }
   ],
   "source": [
    "len(datasets['betti'])"
   ]
  },
  {
   "cell_type": "code",
   "execution_count": 64,
   "metadata": {},
   "outputs": [],
   "source": [
    "from sklearn import preprocessing, pipeline, feature_selection, linear_model\n",
    "\n",
    "RANDOM_STATE = 2023\n",
    "VARIANCE_THRESHOLD = 0.9 * (1 - 0.9)\n",
    "\n",
    "pr = pipeline.Pipeline([\n",
    "    (\"feature selection\", feature_selection.VarianceThreshold(VARIANCE_THRESHOLD)),\n",
    "    (\"normalization\", preprocessing.StandardScaler())])\n",
    "\n",
    "sv_clf = pipeline.Pipeline([\n",
    "    (\"preprocessing\", pr),\n",
    "    (\"svm\", svm.SVC(random_state=RANDOM_STATE))])\n",
    "rf_clf = pipeline.Pipeline([\n",
    "    (\"preprocessing\", pr),\n",
    "    (\"rf\", RandomForestClassifier(n_estimators = 500, random_state=RANDOM_STATE))])\n",
    "rr_clf = pipeline.Pipeline([\n",
    "    (\"preprocessing\", pr),\n",
    "    (\"ridge regression\", linear_model.RidgeClassifier(max_iter=1000))])\n",
    "lr_clf = pipeline.Pipeline([\n",
    "    (\"preprocessing\", pr),\n",
    "    (\"logistic regression\", linear_model.LogisticRegression(max_iter=5000))])"
   ]
  },
  {
   "cell_type": "code",
   "execution_count": 65,
   "metadata": {},
   "outputs": [
    {
     "name": "stdout",
     "output_type": "stream",
     "text": [
      "Pipeline(steps=[('feature selection', VarianceThreshold(threshold=0.24)),\n",
      "                ('preprocessing', StandardScaler()),\n",
      "                ('svm', SVC(random_state=2023))])\n",
      "\t original 0.7875\n",
      "\t betti 0.8\n",
      "\t bottleneck 0.775\n",
      "\t landscape 0.775\n",
      "\t wasserstein 0.775\n",
      "Pipeline(steps=[('feature selection', VarianceThreshold(threshold=0.24)),\n",
      "                ('preprocessing', StandardScaler()),\n",
      "                ('ridge regression', RidgeClassifier(max_iter=1000))])\n",
      "\t original 0.725\n",
      "\t betti 0.7125\n",
      "\t bottleneck 0.725\n",
      "\t landscape 0.725\n",
      "\t wasserstein 0.725\n",
      "Pipeline(steps=[('feature selection', VarianceThreshold(threshold=0.24)),\n",
      "                ('preprocessing', StandardScaler()),\n",
      "                ('logistic regression', LogisticRegression(max_iter=5000))])\n",
      "\t original 0.775\n",
      "\t betti 0.7875\n",
      "\t bottleneck 0.775\n",
      "\t landscape 0.775\n",
      "\t wasserstein 0.775\n"
     ]
    }
   ],
   "source": [
    "# for clf in [rf_clf, sv_clf, rr_clf, lr_clf]:\n",
    "for clf in [sv_clf, rr_clf, lr_clf]:\n",
    "    print(clf)\n",
    "    for name, (x, y, vx, vy) in datasets.items():\n",
    "        clf.fit(x, y)\n",
    "        yp = clf.predict(vx)\n",
    "        print('\\t', name, sum(yp == vy) / len(vy))"
   ]
  },
  {
   "cell_type": "code",
   "execution_count": 50,
   "metadata": {},
   "outputs": [],
   "source": [
    "from sklearn import preprocessing, metrics, pipeline\n",
    "\n",
    "kmeans = pipeline.Pipeline([\n",
    "    (\"feature selection\", feature_selection.VarianceThreshold(0.6 * 0.4)),\n",
    "    (\"normalization\", preprocessing.StandardScaler()),\n",
    "    (\"kmeans\", KMeans(\n",
    "        n_clusters=4, \n",
    "        init='random', \n",
    "        random_state=RANDOM_STATE,\n",
    "        n_init=20))\n",
    "])"
   ]
  },
  {
   "cell_type": "code",
   "execution_count": 66,
   "metadata": {},
   "outputs": [
    {
     "name": "stdout",
     "output_type": "stream",
     "text": [
      "original 0.6289954337899544\n",
      "betti 0.5825986968187045\n",
      "bottleneck 0.6301264852433883\n",
      "landscape 0.6301264852433883\n",
      "wasserstein 0.6301264852433883\n"
     ]
    }
   ],
   "source": [
    "for name, (x, y, _, _) in datasets.items():\n",
    "    kmeans.fit(x)\n",
    "    yp = kmeans.predict(x)\n",
    "    print(name, cluster_accuracy(yp, y, 4))"
   ]
  },
  {
   "cell_type": "code",
   "execution_count": 18,
   "metadata": {},
   "outputs": [
    {
     "data": {
      "text/plain": [
       "(80, 214)"
      ]
     },
     "execution_count": 18,
     "metadata": {},
     "output_type": "execute_result"
    }
   ],
   "source": [
    "train_all = np.hstack((\n",
    "    train1[train_index], \n",
    "    *(np.reshape(train_metrics[name], (train_index.shape[0], 40)) for name in train_metrics)))\n",
    "test_all = np.hstack((\n",
    "    test1,\n",
    "    *(np.reshape(test_metrics[name], (80, 40)) for name in test_metrics)))\n",
    "test_all.shape"
   ]
  },
  {
   "cell_type": "code",
   "execution_count": 48,
   "metadata": {},
   "outputs": [
    {
     "name": "stdout",
     "output_type": "stream",
     "text": [
      "Pipeline(steps=[('feature selection', VarianceThreshold(threshold=0.24)),\n",
      "                ('preprocessing', StandardScaler()),\n",
      "                ('rf',\n",
      "                 RandomForestClassifier(n_estimators=500, random_state=2023))]) 0.8\n",
      "Pipeline(steps=[('feature selection', VarianceThreshold(threshold=0.24)),\n",
      "                ('preprocessing', StandardScaler()),\n",
      "                ('svm', SVC(random_state=2023))]) 0.8\n"
     ]
    }
   ],
   "source": [
    "for clf in [rf_clf, sv_clf]:\n",
    "    clf.fit(train_all, train_y[train_index])\n",
    "    yp = clf.predict(test_all)\n",
    "    print(clf, sum(yp == test_y) / len(vy))"
   ]
  },
  {
   "cell_type": "code",
   "execution_count": 49,
   "metadata": {},
   "outputs": [
    {
     "name": "stderr",
     "output_type": "stream",
     "text": [
      "/home/vova/.local/lib/python3.10/site-packages/sklearn/cluster/_kmeans.py:870: FutureWarning: The default value of `n_init` will change from 10 to 'auto' in 1.4. Set the value of `n_init` explicitly to suppress the warning\n",
      "  warnings.warn(\n"
     ]
    },
    {
     "name": "stdout",
     "output_type": "stream",
     "text": [
      "0.5825986968187045\n"
     ]
    }
   ],
   "source": [
    "yp = kmeans.fit_predict(train_all)\n",
    "print(cluster_accuracy(yp, train_y[train_index], 4))"
   ]
  }
 ],
 "metadata": {
  "kernelspec": {
   "display_name": "Python 3.10.6 64-bit",
   "language": "python",
   "name": "python3"
  },
  "language_info": {
   "codemirror_mode": {
    "name": "ipython",
    "version": 3
   },
   "file_extension": ".py",
   "mimetype": "text/x-python",
   "name": "python",
   "nbconvert_exporter": "python",
   "pygments_lexer": "ipython3",
   "version": "3.10.6"
  },
  "orig_nbformat": 4,
  "vscode": {
   "interpreter": {
    "hash": "916dbcbb3f70747c44a77c7bcd40155683ae19c65e1c03b4aa3499c5328201f1"
   }
  }
 },
 "nbformat": 4,
 "nbformat_minor": 2
}
