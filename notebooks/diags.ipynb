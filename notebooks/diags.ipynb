{
 "cells": [
  {
   "cell_type": "code",
   "execution_count": 19,
   "metadata": {},
   "outputs": [],
   "source": [
    "import numpy as np\n",
    "import h5py\n",
    "\n",
    "from gtda.homology import VietorisRipsPersistence\n",
    "from gtda.diagrams import PairwiseDistance\n",
    "from gtda.time_series import SingleTakensEmbedding\n",
    "\n",
    "from itertools import chain\n",
    "from random import choices"
   ]
  },
  {
   "cell_type": "code",
   "execution_count": 2,
   "metadata": {},
   "outputs": [],
   "source": [
    "embedder = SingleTakensEmbedding(\n",
    "    parameters_type='fixed', \n",
    "    time_delay=8,\n",
    "    dimension=3)\n",
    "ripser = VietorisRipsPersistence(homology_dimensions=[0, 1])"
   ]
  },
  {
   "cell_type": "code",
   "execution_count": 11,
   "metadata": {},
   "outputs": [],
   "source": [
    "with h5py.File('../files/train.h5') as f:\n",
    "    chunks_train = np.array(f[\"chunks\"])\n",
    "    names_train  = np.array(f[\"filenames\"])\n",
    "    classes_train = np.array(f[\"classes\"])\n",
    "\n",
    "with h5py.File('../files/test.h5') as f:\n",
    "    chunks_test = np.array(f[\"chunks\"])\n",
    "    names_test  = np.array(f[\"filenames\"])\n",
    "    classes_test = np.array(f[\"classes\"])"
   ]
  },
  {
   "cell_type": "code",
   "execution_count": 8,
   "metadata": {},
   "outputs": [],
   "source": [
    "tss = [embedder.fit_transform(ch[0, :500]) for ch in chain(chunks_train, chunks_test)]\n",
    "name = list(chain(names_train, names_test))"
   ]
  },
  {
   "cell_type": "code",
   "execution_count": 9,
   "metadata": {},
   "outputs": [],
   "source": [
    "diags = ripser.fit_transform(tss)"
   ]
  },
  {
   "cell_type": "code",
   "execution_count": 12,
   "metadata": {},
   "outputs": [],
   "source": [
    "with h5py.File('../files/diags-all-8.h5', mode='w') as f:\n",
    "    d = f.create_dataset(\"diagrams\", data=diags)\n",
    "    d.attrs['takens-time-delay'] = 8\n",
    "    d.attrs['chunk-size'] = 500\n",
    "    f.create_dataset(\"filenames\", data=name)\n",
    "    f.create_dataset(\"classes\", data=np.append(classes_train, classes_test))"
   ]
  },
  {
   "cell_type": "code",
   "execution_count": 15,
   "metadata": {},
   "outputs": [],
   "source": [
    "classes = np.append(classes_train, classes_test)"
   ]
  },
  {
   "cell_type": "code",
   "execution_count": 22,
   "metadata": {},
   "outputs": [],
   "source": [
    "unique_classes = np.unique(classes)\n",
    "chosen = []\n",
    "k = 5\n",
    "for c in unique_classes:\n",
    "    ind = choices([i for i, c2 in enumerate(classes_train) if c == c2], k = k)\n",
    "    chosen.extend(ind)\n",
    "chosen = np.array(chosen)"
   ]
  },
  {
   "cell_type": "code",
   "execution_count": 48,
   "metadata": {},
   "outputs": [],
   "source": [
    "chose_to_train = []\n",
    "k = 100 \n",
    "\n",
    "for c in unique_classes:\n",
    "    ind = choices([i for i, c2 in enumerate(classes_train) \n",
    "                   if c == c2 and i not in chosen], k = k)\n",
    "    chose_to_train.extend(ind)\n",
    "chose_to_train = np.array(chose_to_train)"
   ]
  },
  {
   "cell_type": "code",
   "execution_count": 45,
   "metadata": {},
   "outputs": [],
   "source": [
    "dw  = PairwiseDistance(metric='wasserstein', order=None)\n",
    "dbn = PairwiseDistance(metric='bottleneck', order=None)\n",
    "dbc = PairwiseDistance(metric='betti', order=None)\n",
    "dls = PairwiseDistance(metric='landscape', order=None)"
   ]
  },
  {
   "cell_type": "code",
   "execution_count": 52,
   "metadata": {},
   "outputs": [],
   "source": [
    "chosen_diags = diags[chosen]\n",
    "test_diags = diags[-80:]\n",
    "train_diags = diags[chose_to_train]"
   ]
  },
  {
   "cell_type": "code",
   "execution_count": 67,
   "metadata": {},
   "outputs": [],
   "source": [
    "full_train_diags = np.delete(diags[:-80], chosen, axis=0)"
   ]
  },
  {
   "cell_type": "code",
   "execution_count": 68,
   "metadata": {},
   "outputs": [
    {
     "data": {
      "text/plain": [
       "array([   0,    1,    2, ..., 2625, 2626, 2627])"
      ]
     },
     "execution_count": 68,
     "metadata": {},
     "output_type": "execute_result"
    }
   ],
   "source": [
    "full_train_indexes = np.array([i for i in range(diags.shape[0] - 80) if i not in chosen])\n",
    "full_train_indexes"
   ]
  },
  {
   "cell_type": "code",
   "execution_count": 69,
   "metadata": {},
   "outputs": [],
   "source": [
    "with h5py.File('../files/metrics-train-all.h5', mode='w') as f:\n",
    "    f.create_dataset(\"reference-index\", data=chosen)\n",
    "    f.create_dataset(\"train-index\", data=full_train_indexes)\n",
    "    for d in [dw, dbn, dbc, dls]:\n",
    "        d.fit(chosen_diags)\n",
    "        matrix = d.transform(full_train_diags)\n",
    "        f.create_dataset(d.get_params()['metric'], data=matrix)"
   ]
  },
  {
   "cell_type": "code",
   "execution_count": 53,
   "metadata": {},
   "outputs": [],
   "source": [
    "with h5py.File('../files/metrics-train.h5', mode='w') as f:\n",
    "    f.create_dataset(\"reference-index\", data=chosen)\n",
    "    f.create_dataset(\"train-index\", data=chose_to_train)\n",
    "    for d in [dw, dbn, dbc, dls]:\n",
    "        d.fit(chosen_diags)\n",
    "        matrix = d.transform(train_diags)\n",
    "        f.create_dataset(d.get_params()['metric'], data=matrix)"
   ]
  },
  {
   "cell_type": "code",
   "execution_count": 46,
   "metadata": {},
   "outputs": [],
   "source": [
    "with h5py.File('../files/metrics-test.h5', mode='w') as f:\n",
    "    f.create_dataset(\"reference-index\", data=chosen)\n",
    "    f.create_dataset(\"test-index\", data=np.array(range(diags.shape[0]-80, diags.shape[0])))\n",
    "    for d in [dw, dbn, dbc, dls]:\n",
    "        d.fit(chosen_diags)\n",
    "        matrix = d.transform(test_diags)\n",
    "        f.create_dataset(d.get_params()['metric'], data=matrix)"
   ]
  },
  {
   "cell_type": "code",
   "execution_count": 54,
   "metadata": {},
   "outputs": [
    {
     "name": "stdout",
     "output_type": "stream",
     "text": [
      "betti (400, 20, 2)\n",
      "bottleneck (400, 20, 2)\n",
      "landscape (400, 20, 2)\n",
      "reference-index (20,)\n",
      "train-index (400,)\n",
      "wasserstein (400, 20, 2)\n"
     ]
    }
   ],
   "source": [
    "with h5py.File('../files/metrics-train.h5') as f:\n",
    "    for k in f.keys():\n",
    "        print(k, f[k].shape)"
   ]
  }
 ],
 "metadata": {
  "kernelspec": {
   "display_name": "Python 3.10.6 64-bit",
   "language": "python",
   "name": "python3"
  },
  "language_info": {
   "codemirror_mode": {
    "name": "ipython",
    "version": 3
   },
   "file_extension": ".py",
   "mimetype": "text/x-python",
   "name": "python",
   "nbconvert_exporter": "python",
   "pygments_lexer": "ipython3",
   "version": "3.10.6"
  },
  "orig_nbformat": 4,
  "vscode": {
   "interpreter": {
    "hash": "916dbcbb3f70747c44a77c7bcd40155683ae19c65e1c03b4aa3499c5328201f1"
   }
  }
 },
 "nbformat": 4,
 "nbformat_minor": 2
}
